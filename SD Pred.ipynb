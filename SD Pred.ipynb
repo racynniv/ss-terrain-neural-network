{
 "cells": [
  {
   "cell_type": "code",
   "execution_count": 1,
   "metadata": {},
   "outputs": [],
   "source": [
    "# Import modules\n",
    "from __future__ import print_function\n",
    "import tensorflow as tf\n",
    "import numpy as np\n",
    "from matplotlib import pyplot as plt\n",
    "import cv2\n",
    "from augment_image_names import Generator\n",
    "from data_loader import load_batch\n",
    "from cnn_model import *\n",
    "import pickle as pkl\n",
    "import random\n",
    "\n",
    "#%matplotlib inline\n",
    "%load_ext autoreload\n",
    "%autoreload 2"
   ]
  },
  {
   "cell_type": "code",
   "execution_count": 2,
   "metadata": {},
   "outputs": [
    {
     "name": "stdout",
     "output_type": "stream",
     "text": [
      "Default GPU Device:/device:GPU:0\n"
     ]
    }
   ],
   "source": [
    "if tf.test.gpu_device_name(): \n",
    "\n",
    "    print('Default GPU Device:{}'.format(tf.test.gpu_device_name()))\n",
    "\n",
    "else:\n",
    "\n",
    "   print(\"Please install GPU version of TF\")"
   ]
  },
  {
   "cell_type": "code",
   "execution_count": 3,
   "metadata": {},
   "outputs": [],
   "source": [
    "from cnn_model import *\n",
    "scale = 16"
   ]
  },
  {
   "cell_type": "code",
   "execution_count": 4,
   "metadata": {
    "scrolled": true
   },
   "outputs": [
    {
     "name": "stdout",
     "output_type": "stream",
     "text": [
      "(None, 30, 40, 1)\n",
      "(None, 1206)\n",
      "WARNING:tensorflow:From /home/ros/model/cnn_model.py:120: dense (from tensorflow.python.layers.core) is deprecated and will be removed in a future version.\n",
      "Instructions for updating:\n",
      "Use keras.layers.Dense instead.\n",
      "WARNING:tensorflow:From /home/ros/anaconda3/envs/tf/lib/python3.6/site-packages/tensorflow_core/python/layers/core.py:187: Layer.apply (from tensorflow.python.keras.engine.base_layer) is deprecated and will be removed in a future version.\n",
      "Instructions for updating:\n",
      "Please use `layer.__call__` method instead.\n",
      "WARNING:tensorflow:From /home/ros/anaconda3/envs/tf/lib/python3.6/site-packages/tensorflow_core/python/ops/resource_variable_ops.py:1635: calling BaseResourceVariable.__init__ (from tensorflow.python.ops.resource_variable_ops) with constraint is deprecated and will be removed in a future version.\n",
      "Instructions for updating:\n",
      "If using Keras pass *_constraint arguments to layers.\n",
      "1\n",
      "(None, 1200)\n",
      "(None, 30, 40, 1)\n"
     ]
    }
   ],
   "source": [
    "model = cnn(int(480/scale),int(640/scale),1,conv_featmap=[64,32,16,3],deconv_featmap=[3,16,32,64,3],\n",
    "                 kernel_size=[5,5,5,5],dekernel_size=[5,5,5,5,5],conv_strides=[1,1,1,1],deconv_strides=[1,1,1,1,1],\n",
    "                 pool_size=[4,2,2,2],pool_strides=[4,2,2,2],upsample_size=[2,2,2,4],fc_layer_size=[640*480*3],learning_rate=0.005,\n",
    "                 lambda_l2_reg=.01,activation=tf.nn.relu)"
   ]
  },
  {
   "cell_type": "code",
   "execution_count": 5,
   "metadata": {
    "scrolled": true
   },
   "outputs": [
    {
     "name": "stdout",
     "output_type": "stream",
     "text": [
      "['augment.py', 'train.py', 'Untitled1.ipynb', 'test_means.py', '__pycache__', 'train_small.py', '.ipynb_checkpoints', 'augment_image_names.py', 'SD Pred.ipynb', 'cnn_model.py', 'data_loader.py', 'Train_Prediction.ipynb', 'feed_test.py', 'test_sds.py']\n"
     ]
    }
   ],
   "source": [
    "import os\n",
    "print(os.listdir())"
   ]
  },
  {
   "cell_type": "code",
   "execution_count": 6,
   "metadata": {},
   "outputs": [
    {
     "name": "stdout",
     "output_type": "stream",
     "text": [
      "(50, 30, 40, 1)\n",
      "(50, 6)\n",
      "(50, 30, 40, 1)\n"
     ]
    }
   ],
   "source": [
    "tot_itr = 50\n",
    "\n",
    "base_dir = \"/media/ros/de64b3cc-d3b4-44e1-b807-300d3d8adb21/ss_terrain_nav/data/\"\n",
    "\n",
    "feed_test = np.array([['terrain5/run1/', '1592967640.9', '0.0', '0.0', '0.0', '0.0', '0.0']])\n",
    "test_images, test_accels, test_sds, test_tf, test_ca = load_batch(feed_test,base_dir,train=False,down_scale=scale)\n",
    "test_accels = test_accels[:,:,:,2]\n",
    "test_images = np.expand_dims(test_images, axis=-1)\n",
    "noise = np.random.normal(0,0,size=(tot_itr,test_images.shape[1],test_images.shape[2],test_images.shape[3]))\n",
    "print(noise.shape)\n",
    "test_images = np.repeat(test_images, tot_itr, axis=0) + noise\n",
    "test_ca = np.repeat(test_ca, tot_itr, axis=0)\n",
    "print(test_ca.shape)\n",
    "print(test_images.shape)"
   ]
  },
  {
   "cell_type": "code",
   "execution_count": 7,
   "metadata": {},
   "outputs": [
    {
     "name": "stdout",
     "output_type": "stream",
     "text": [
      "nan\n"
     ]
    },
    {
     "name": "stderr",
     "output_type": "stream",
     "text": [
      "/home/ros/anaconda3/envs/tf/lib/python3.6/site-packages/ipykernel_launcher.py:2: RuntimeWarning: invalid value encountered in true_divide\n",
      "  \n"
     ]
    },
    {
     "data": {
      "text/plain": [
       "<matplotlib.image.AxesImage at 0x7f2d887c7b70>"
      ]
     },
     "execution_count": 7,
     "metadata": {},
     "output_type": "execute_result"
    },
    {
     "name": "stderr",
     "output_type": "stream",
     "text": [
      "/home/ros/anaconda3/envs/tf/lib/python3.6/site-packages/matplotlib/image.py:446: UserWarning: Warning: converting a masked element to nan.\n",
      "  dv = np.float64(self.norm.vmax) - np.float64(self.norm.vmin)\n",
      "/home/ros/anaconda3/envs/tf/lib/python3.6/site-packages/matplotlib/image.py:453: UserWarning: Warning: converting a masked element to nan.\n",
      "  a_min = np.float64(newmin)\n",
      "/home/ros/anaconda3/envs/tf/lib/python3.6/site-packages/matplotlib/image.py:458: UserWarning: Warning: converting a masked element to nan.\n",
      "  a_max = np.float64(newmax)\n"
     ]
    },
    {
     "data": {
      "image/png": "[encoded data removed]",
      "text/plain": [
       "<Figure size 432x288 with 1 Axes>"
      ]
     },
     "metadata": {
      "needs_background": "light"
     },
     "output_type": "display_data"
    }
   ],
   "source": [
    "old_range = np.max(noise[0]) - np.min(noise[0])\n",
    "pic = ((noise[0] - np.min(noise[0])) * 255) / old_range\n",
    "print(np.max(pic))\n",
    "plt.imshow(pic)"
   ]
  },
  {
   "cell_type": "code",
   "execution_count": 8,
   "metadata": {
    "scrolled": true
   },
   "outputs": [
    {
     "name": "stdout",
     "output_type": "stream",
     "text": [
      "(50, 30, 40, 1)\n",
      "(50, 6)\n",
      "(30, 40, 1)\n",
      "Loading model from: /media/ros/de64b3cc-d3b4-44e1-b807-300d3d8adb21/ss_terrain_nav/data/saved/mse_4500_2791226.958955189\n",
      "INFO:tensorflow:Restoring parameters from /media/ros/de64b3cc-d3b4-44e1-b807-300d3d8adb21/ss_terrain_nav/data/saved/mse_4500_2791226.958955189\n",
      "(50, 30, 40, 1)\n"
     ]
    }
   ],
   "source": [
    "print(test_images.shape)\n",
    "print(test_ca.shape)\n",
    "res = model.predict(test_images,test_ca,pre_trained_model='/media/ros/de64b3cc-d3b4-44e1-b807-300d3d8adb21/ss_terrain_nav/data/saved/mse_4500_2791226.958955189')\n",
    "print(res.shape)"
   ]
  },
  {
   "cell_type": "code",
   "execution_count": 9,
   "metadata": {},
   "outputs": [
    {
     "name": "stdout",
     "output_type": "stream",
     "text": [
      "[[[8326.918 ]\n",
      "  [8291.664 ]\n",
      "  [8315.679 ]\n",
      "  ...\n",
      "  [8538.727 ]\n",
      "  [8176.671 ]\n",
      "  [8296.034 ]]\n",
      "\n",
      " [[8086.4985]\n",
      "  [8047.9243]\n",
      "  [8439.918 ]\n",
      "  ...\n",
      "  [8470.019 ]\n",
      "  [8164.634 ]\n",
      "  [8261.56  ]]\n",
      "\n",
      " [[7747.9634]\n",
      "  [8011.2485]\n",
      "  [7875.346 ]\n",
      "  ...\n",
      "  [8508.088 ]\n",
      "  [7938.429 ]\n",
      "  [8015.767 ]]\n",
      "\n",
      " ...\n",
      "\n",
      " [[7813.494 ]\n",
      "  [7584.8394]\n",
      "  [7625.511 ]\n",
      "  ...\n",
      "  [8193.111 ]\n",
      "  [8289.879 ]\n",
      "  [8282.318 ]]\n",
      "\n",
      " [[7670.2144]\n",
      "  [7856.967 ]\n",
      "  [7764.041 ]\n",
      "  ...\n",
      "  [8294.666 ]\n",
      "  [8179.0684]\n",
      "  [8070.145 ]]\n",
      "\n",
      " [[7997.5996]\n",
      "  [8118.6226]\n",
      "  [7972.6855]\n",
      "  ...\n",
      "  [8397.716 ]\n",
      "  [8495.154 ]\n",
      "  [8669.51  ]]]\n"
     ]
    }
   ],
   "source": [
    "print(res[0])"
   ]
  },
  {
   "cell_type": "code",
   "execution_count": 10,
   "metadata": {},
   "outputs": [
    {
     "name": "stdout",
     "output_type": "stream",
     "text": [
      "[[[8326.918 ]\n",
      "  [8291.664 ]\n",
      "  [8315.679 ]\n",
      "  ...\n",
      "  [8538.727 ]\n",
      "  [8176.671 ]\n",
      "  [8296.034 ]]\n",
      "\n",
      " [[8086.4985]\n",
      "  [8047.9243]\n",
      "  [8439.918 ]\n",
      "  ...\n",
      "  [8470.019 ]\n",
      "  [8164.634 ]\n",
      "  [8261.56  ]]\n",
      "\n",
      " [[7747.9634]\n",
      "  [8011.2485]\n",
      "  [7875.346 ]\n",
      "  ...\n",
      "  [8508.088 ]\n",
      "  [7938.429 ]\n",
      "  [8015.767 ]]\n",
      "\n",
      " ...\n",
      "\n",
      " [[7813.494 ]\n",
      "  [7584.8394]\n",
      "  [7625.511 ]\n",
      "  ...\n",
      "  [8193.111 ]\n",
      "  [8289.879 ]\n",
      "  [8282.318 ]]\n",
      "\n",
      " [[7670.2144]\n",
      "  [7856.967 ]\n",
      "  [7764.041 ]\n",
      "  ...\n",
      "  [8294.666 ]\n",
      "  [8179.0684]\n",
      "  [8070.145 ]]\n",
      "\n",
      " [[7997.5996]\n",
      "  [8118.6226]\n",
      "  [7972.6855]\n",
      "  ...\n",
      "  [8397.716 ]\n",
      "  [8495.154 ]\n",
      "  [8669.51  ]]]\n"
     ]
    }
   ],
   "source": [
    "print(res[1])"
   ]
  },
  {
   "cell_type": "code",
   "execution_count": 11,
   "metadata": {},
   "outputs": [],
   "source": [
    "def dict_to_accel(dic, values):\n",
    "  accels = np.zeros((values.shape[0],values.shape[1],3))\n",
    "  sds = np.ones((values.shape[0],values.shape[1],3))\n",
    "  indices = np.argwhere(values[:,:,0]>-1)\n",
    "  for i in indices:\n",
    "    tup = tuple((i[0],i[1]))\n",
    "    ac = list(dic[tup])\n",
    "    #print(ac)\n",
    "    accels[i[0],i[1]] = random.choice(ac)\n",
    "    if len(ac) != 1:\n",
    "        ac = np.array(ac)\n",
    "        sds[i[0],i[1],0] = np.std(ac[:,0])\n",
    "        sds[i[0],i[1],1] = np.std(ac[:,1])\n",
    "        sds[i[0],i[1],2] = np.std(ac[:,2])\n",
    "    else:\n",
    "        sds[i[0],i[1],0] = sds[i[0],i[1],1] = sds[i[0],i[1],2] = 1\n",
    "  return accels, sds"
   ]
  },
  {
   "cell_type": "code",
   "execution_count": 12,
   "metadata": {},
   "outputs": [
    {
     "name": "stdout",
     "output_type": "stream",
     "text": [
      "(1, 30, 40)\n",
      "-1.0\n",
      "(30, 40, 1)\n",
      "(30, 40, 1)\n",
      "[0.00195312]\n",
      "0.0\n",
      "0.005859375\n",
      "(1200,)\n",
      "(1200,)\n",
      "[[   0]\n",
      " [   1]\n",
      " [   2]\n",
      " [   3]\n",
      " [   4]\n",
      " [   5]\n",
      " [   6]\n",
      " [   7]\n",
      " [   8]\n",
      " [   9]\n",
      " [  10]\n",
      " [  11]\n",
      " [  12]\n",
      " [  13]\n",
      " [  14]\n",
      " [  15]\n",
      " [  16]\n",
      " [  17]\n",
      " [  18]\n",
      " [  19]\n",
      " [  20]\n",
      " [  21]\n",
      " [  22]\n",
      " [  23]\n",
      " [  24]\n",
      " [  25]\n",
      " [  26]\n",
      " [  27]\n",
      " [  28]\n",
      " [  29]\n",
      " [  30]\n",
      " [  31]\n",
      " [  32]\n",
      " [  33]\n",
      " [  34]\n",
      " [  35]\n",
      " [  36]\n",
      " [  37]\n",
      " [  38]\n",
      " [  39]\n",
      " [  40]\n",
      " [  41]\n",
      " [  42]\n",
      " [  43]\n",
      " [  44]\n",
      " [  45]\n",
      " [  46]\n",
      " [  47]\n",
      " [  48]\n",
      " [  49]\n",
      " [  50]\n",
      " [  51]\n",
      " [  52]\n",
      " [  53]\n",
      " [  54]\n",
      " [  55]\n",
      " [  56]\n",
      " [  57]\n",
      " [  58]\n",
      " [  59]\n",
      " [  60]\n",
      " [  61]\n",
      " [  62]\n",
      " [  63]\n",
      " [  64]\n",
      " [  65]\n",
      " [  66]\n",
      " [  67]\n",
      " [  68]\n",
      " [  69]\n",
      " [  70]\n",
      " [  71]\n",
      " [  72]\n",
      " [  73]\n",
      " [  74]\n",
      " [  75]\n",
      " [  76]\n",
      " [  77]\n",
      " [  78]\n",
      " [  79]\n",
      " [  80]\n",
      " [  81]\n",
      " [  82]\n",
      " [  83]\n",
      " [  84]\n",
      " [  85]\n",
      " [  86]\n",
      " [  87]\n",
      " [  88]\n",
      " [  89]\n",
      " [  90]\n",
      " [  91]\n",
      " [  92]\n",
      " [  93]\n",
      " [  94]\n",
      " [  95]\n",
      " [  96]\n",
      " [  97]\n",
      " [  98]\n",
      " [  99]\n",
      " [ 100]\n",
      " [ 101]\n",
      " [ 102]\n",
      " [ 103]\n",
      " [ 104]\n",
      " [ 105]\n",
      " [ 106]\n",
      " [ 107]\n",
      " [ 108]\n",
      " [ 112]\n",
      " [ 113]\n",
      " [ 114]\n",
      " [ 115]\n",
      " [ 116]\n",
      " [ 117]\n",
      " [ 118]\n",
      " [ 119]\n",
      " [ 120]\n",
      " [ 121]\n",
      " [ 122]\n",
      " [ 123]\n",
      " [ 124]\n",
      " [ 125]\n",
      " [ 126]\n",
      " [ 127]\n",
      " [ 128]\n",
      " [ 129]\n",
      " [ 130]\n",
      " [ 131]\n",
      " [ 132]\n",
      " [ 133]\n",
      " [ 134]\n",
      " [ 135]\n",
      " [ 136]\n",
      " [ 137]\n",
      " [ 138]\n",
      " [ 139]\n",
      " [ 140]\n",
      " [ 141]\n",
      " [ 142]\n",
      " [ 144]\n",
      " [ 145]\n",
      " [ 155]\n",
      " [ 158]\n",
      " [ 159]\n",
      " [ 160]\n",
      " [ 161]\n",
      " [ 162]\n",
      " [ 163]\n",
      " [ 164]\n",
      " [ 165]\n",
      " [ 166]\n",
      " [ 167]\n",
      " [ 168]\n",
      " [ 169]\n",
      " [ 170]\n",
      " [ 171]\n",
      " [ 172]\n",
      " [ 175]\n",
      " [ 176]\n",
      " [ 200]\n",
      " [ 201]\n",
      " [ 202]\n",
      " [ 203]\n",
      " [ 204]\n",
      " [ 205]\n",
      " [ 206]\n",
      " [ 207]\n",
      " [ 230]\n",
      " [ 240]\n",
      " [ 241]\n",
      " [ 242]\n",
      " [ 243]\n",
      " [ 244]\n",
      " [ 280]\n",
      " [ 281]\n",
      " [ 282]\n",
      " [ 283]\n",
      " [ 307]\n",
      " [ 320]\n",
      " [ 321]\n",
      " [ 322]\n",
      " [ 339]\n",
      " [ 340]\n",
      " [ 341]\n",
      " [ 344]\n",
      " [ 345]\n",
      " [ 346]\n",
      " [ 347]\n",
      " [ 373]\n",
      " [ 379]\n",
      " [ 380]\n",
      " [ 381]\n",
      " [ 382]\n",
      " [ 383]\n",
      " [ 384]\n",
      " [ 385]\n",
      " [ 386]\n",
      " [ 419]\n",
      " [ 420]\n",
      " [ 421]\n",
      " [ 422]\n",
      " [ 423]\n",
      " [ 424]\n",
      " [ 425]\n",
      " [ 426]\n",
      " [ 460]\n",
      " [ 461]\n",
      " [ 462]\n",
      " [ 463]\n",
      " [ 464]\n",
      " [ 465]\n",
      " [ 466]\n",
      " [ 471]\n",
      " [ 500]\n",
      " [ 501]\n",
      " [ 502]\n",
      " [ 503]\n",
      " [ 504]\n",
      " [ 505]\n",
      " [ 506]\n",
      " [ 510]\n",
      " [ 511]\n",
      " [ 529]\n",
      " [ 541]\n",
      " [ 542]\n",
      " [ 543]\n",
      " [ 544]\n",
      " [ 545]\n",
      " [ 546]\n",
      " [ 550]\n",
      " [ 551]\n",
      " [ 552]\n",
      " [ 553]\n",
      " [ 581]\n",
      " [ 582]\n",
      " [ 583]\n",
      " [ 584]\n",
      " [ 585]\n",
      " [ 586]\n",
      " [ 590]\n",
      " [ 591]\n",
      " [ 592]\n",
      " [ 604]\n",
      " [ 605]\n",
      " [ 606]\n",
      " [ 607]\n",
      " [ 608]\n",
      " [ 623]\n",
      " [ 624]\n",
      " [ 625]\n",
      " [ 626]\n",
      " [ 645]\n",
      " [ 663]\n",
      " [ 664]\n",
      " [ 665]\n",
      " [ 666]\n",
      " [ 684]\n",
      " [ 703]\n",
      " [ 704]\n",
      " [ 721]\n",
      " [ 778]\n",
      " [ 789]\n",
      " [ 790]\n",
      " [ 791]\n",
      " [ 807]\n",
      " [ 812]\n",
      " [ 828]\n",
      " [ 829]\n",
      " [ 831]\n",
      " [ 852]\n",
      " [ 860]\n",
      " [ 891]\n",
      " [ 892]\n",
      " [ 922]\n",
      " [ 931]\n",
      " [ 932]\n",
      " [ 933]\n",
      " [ 934]\n",
      " [ 962]\n",
      " [ 963]\n",
      " [ 964]\n",
      " [ 970]\n",
      " [ 971]\n",
      " [ 972]\n",
      " [ 973]\n",
      " [1012]\n",
      " [1013]\n",
      " [1054]\n",
      " [1055]\n",
      " [1095]\n",
      " [1161]\n",
      " [1162]\n",
      " [1163]\n",
      " [1164]\n",
      " [1165]\n",
      " [1166]]\n"
     ]
    }
   ],
   "source": [
    "z_sd = test_sds[:,:,:,2]\n",
    "print(z_sd.shape)\n",
    "print(z_sd[0,0,0])\n",
    "pred_sd = np.std(res,axis=0)\n",
    "print(pred_sd.shape)\n",
    "z_pred_sd = pred_sd\n",
    "print(z_pred_sd.shape)\n",
    "print(z_pred_sd[0,0])\n",
    "print(np.min(z_pred_sd))\n",
    "print(np.max(z_pred_sd))\n",
    "xs = z_sd.flatten()\n",
    "ys = z_pred_sd.flatten()\n",
    "print(xs.shape)\n",
    "print(ys.shape)\n",
    "zers = np.argwhere(xs==-1)\n",
    "print(zers)\n",
    "xs[zers] = 0"
   ]
  },
  {
   "cell_type": "code",
   "execution_count": 13,
   "metadata": {
    "scrolled": true
   },
   "outputs": [
    {
     "data": {
      "image/png": "[encoded data removed]",
      "text/plain": [
       "<Figure size 432x288 with 1 Axes>"
      ]
     },
     "metadata": {
      "needs_background": "light"
     },
     "output_type": "display_data"
    }
   ],
   "source": [
    "plt.scatter(xs,ys)\n",
    "plt.ylabel(\"Uncertainty in Prediction\")\n",
    "plt.xlabel(\"Uncertainty in Data\")\n",
    "plt.show()"
   ]
  },
  {
   "cell_type": "code",
   "execution_count": 14,
   "metadata": {},
   "outputs": [
    {
     "name": "stdout",
     "output_type": "stream",
     "text": [
      "(1, 30, 40)\n"
     ]
    },
    {
     "data": {
      "image/png": "[encoded data removed]",
      "text/plain": [
       "<Figure size 432x288 with 1 Axes>"
      ]
     },
     "metadata": {
      "needs_background": "light"
     },
     "output_type": "display_data"
    }
   ],
   "source": [
    "z_sd = test_sds[:,:,:,2]\n",
    "print(z_sd.shape)\n",
    "z_sd = np.reshape(z_sd,(z_sd.shape[1],z_sd.shape[2]))\n",
    "plt.imshow(z_sd, cmap='hot', interpolation='nearest')\n",
    "plt.show()"
   ]
  },
  {
   "cell_type": "code",
   "execution_count": 15,
   "metadata": {},
   "outputs": [
    {
     "name": "stdout",
     "output_type": "stream",
     "text": [
      "(30, 40, 1)\n"
     ]
    },
    {
     "data": {
      "image/png": "[encoded data removed]",
      "text/plain": [
       "<Figure size 432x288 with 1 Axes>"
      ]
     },
     "metadata": {
      "needs_background": "light"
     },
     "output_type": "display_data"
    }
   ],
   "source": [
    "print(z_pred_sd.shape)\n",
    "z_pred_sd = np.reshape(z_pred_sd,(z_pred_sd.shape[0],z_pred_sd.shape[1]))\n",
    "plt.imshow(z_pred_sd, cmap='hot', interpolation='nearest')\n",
    "plt.show()"
   ]
  },
  {
   "cell_type": "code",
   "execution_count": 16,
   "metadata": {},
   "outputs": [
    {
     "data": {
      "text/plain": [
       "<matplotlib.image.AxesImage at 0x7f2d885b7f60>"
      ]
     },
     "execution_count": 16,
     "metadata": {},
     "output_type": "execute_result"
    },
    {
     "data": {
      "image/png": "[encoded data removed]",
      "text/plain": [
       "<Figure size 432x288 with 1 Axes>"
      ]
     },
     "metadata": {
      "needs_background": "light"
     },
     "output_type": "display_data"
    }
   ],
   "source": [
    "plt.imshow(test_images[0])"
   ]
  },
  {
   "cell_type": "code",
   "execution_count": 17,
   "metadata": {},
   "outputs": [
    {
     "data": {
      "image/png": "[encoded data removed]",
      "text/plain": [
       "<Figure size 432x288 with 1 Axes>"
      ]
     },
     "metadata": {
      "needs_background": "light"
     },
     "output_type": "display_data"
    }
   ],
   "source": [
    "plt.scatter(xs,ys)\n",
    "plt.show()"
   ]
  },
  {
   "cell_type": "code",
   "execution_count": 18,
   "metadata": {},
   "outputs": [
    {
     "name": "stdout",
     "output_type": "stream",
     "text": [
      "[[  13]\n",
      " [  18]\n",
      " [  28]\n",
      " [  75]\n",
      " [ 118]\n",
      " [ 133]\n",
      " [ 146]\n",
      " [ 148]\n",
      " [ 154]\n",
      " [ 162]\n",
      " [ 165]\n",
      " [ 169]\n",
      " [ 170]\n",
      " [ 190]\n",
      " [ 199]\n",
      " [ 207]\n",
      " [ 212]\n",
      " [ 215]\n",
      " [ 225]\n",
      " [ 229]\n",
      " [ 233]\n",
      " [ 242]\n",
      " [ 252]\n",
      " [ 258]\n",
      " [ 265]\n",
      " [ 279]\n",
      " [ 284]\n",
      " [ 289]\n",
      " [ 291]\n",
      " [ 301]\n",
      " [ 315]\n",
      " [ 319]\n",
      " [ 325]\n",
      " [ 326]\n",
      " [ 330]\n",
      " [ 339]\n",
      " [ 345]\n",
      " [ 348]\n",
      " [ 365]\n",
      " [ 369]\n",
      " [ 373]\n",
      " [ 374]\n",
      " [ 376]\n",
      " [ 377]\n",
      " [ 382]\n",
      " [ 386]\n",
      " [ 387]\n",
      " [ 388]\n",
      " [ 407]\n",
      " [ 432]\n",
      " [ 473]\n",
      " [ 476]\n",
      " [ 490]\n",
      " [ 495]\n",
      " [ 504]\n",
      " [ 525]\n",
      " [ 536]\n",
      " [ 552]\n",
      " [ 553]\n",
      " [ 561]\n",
      " [ 574]\n",
      " [ 606]\n",
      " [ 609]\n",
      " [ 612]\n",
      " [ 613]\n",
      " [ 616]\n",
      " [ 619]\n",
      " [ 629]\n",
      " [ 644]\n",
      " [ 681]\n",
      " [ 687]\n",
      " [ 698]\n",
      " [ 705]\n",
      " [ 713]\n",
      " [ 734]\n",
      " [ 753]\n",
      " [ 763]\n",
      " [ 767]\n",
      " [ 788]\n",
      " [ 793]\n",
      " [ 801]\n",
      " [ 803]\n",
      " [ 812]\n",
      " [ 824]\n",
      " [ 840]\n",
      " [ 842]\n",
      " [ 867]\n",
      " [ 871]\n",
      " [ 888]\n",
      " [ 931]\n",
      " [ 934]\n",
      " [ 938]\n",
      " [ 959]\n",
      " [ 974]\n",
      " [ 975]\n",
      " [1004]\n",
      " [1016]\n",
      " [1048]\n",
      " [1056]\n",
      " [1057]\n",
      " [1072]\n",
      " [1098]\n",
      " [1112]\n",
      " [1113]\n",
      " [1152]\n",
      " [1166]\n",
      " [1173]\n",
      " [1186]\n",
      " [1188]]\n"
     ]
    },
    {
     "data": {
      "image/png": "[encoded data removed]",
      "text/plain": [
       "<Figure size 432x288 with 1 Axes>"
      ]
     },
     "metadata": {
      "needs_background": "light"
     },
     "output_type": "display_data"
    }
   ],
   "source": [
    "zers = np.argwhere(ys==0)\n",
    "print(zers)\n",
    "xs1 = np.delete(xs,zers)\n",
    "ys1 = np.delete(ys,zers)\n",
    "plt.scatter(xs1,ys1)\n",
    "plt.ylabel(\"Uncertainty in Prediction\")\n",
    "plt.xlabel(\"Uncertainty in Data\")\n",
    "plt.show()"
   ]
  },
  {
   "cell_type": "code",
   "execution_count": 19,
   "metadata": {},
   "outputs": [
    {
     "data": {
      "image/png": "[encoded data removed]",
      "text/plain": [
       "<Figure size 432x288 with 1 Axes>"
      ]
     },
     "metadata": {
      "needs_background": "light"
     },
     "output_type": "display_data"
    }
   ],
   "source": [
    "plt.scatter(ys1,xs1)\n",
    "plt.xlabel(\"Uncertainty in Prediction\")\n",
    "plt.ylabel(\"Uncertainty in Data\")\n",
    "plt.show()"
   ]
  },
  {
   "cell_type": "markdown",
   "metadata": {},
   "source": [
    "###### "
   ]
  }
 ],
 "metadata": {
  "kernelspec": {
   "display_name": "Python 3",
   "language": "python",
   "name": "python3"
  },
  "language_info": {
   "codemirror_mode": {
    "name": "ipython",
    "version": 3
   },
   "file_extension": ".py",
   "mimetype": "text/x-python",
   "name": "python",
   "nbconvert_exporter": "python",
   "pygments_lexer": "ipython3",
   "version": "3.6.13"
  }
 },
 "nbformat": 4,
 "nbformat_minor": 4
}
