{
 "cells": [
  {
   "cell_type": "code",
   "execution_count": 1,
   "metadata": {},
   "outputs": [],
   "source": [
    "# Import modules\n",
    "from __future__ import print_function\n",
    "import tensorflow as tf\n",
    "import numpy as np\n",
    "from matplotlib import pyplot as plt\n",
    "import cv2\n",
    "from augment_image_names import Generator\n",
    "from data_loader import load_batch\n",
    "from cnn_model import *\n",
    "import pickle as pkl\n",
    "import random\n",
    "\n",
    "#%matplotlib inline\n",
    "%load_ext autoreload\n",
    "%autoreload 2"
   ]
  },
  {
   "cell_type": "code",
   "execution_count": 2,
   "metadata": {},
   "outputs": [
    {
     "name": "stdout",
     "output_type": "stream",
     "text": [
      "Default GPU Device:/device:GPU:0\n"
     ]
    }
   ],
   "source": [
    "if tf.test.gpu_device_name(): \n",
    "\n",
    "    print('Default GPU Device:{}'.format(tf.test.gpu_device_name()))\n",
    "\n",
    "else:\n",
    "\n",
    "   print(\"Please install GPU version of TF\")"
   ]
  },
  {
   "cell_type": "code",
   "execution_count": 3,
   "metadata": {},
   "outputs": [],
   "source": [
    "from cnn_model import *\n",
    "scale = 16"
   ]
  },
  {
   "cell_type": "code",
   "execution_count": 4,
   "metadata": {
    "scrolled": true
   },
   "outputs": [
    {
     "name": "stdout",
     "output_type": "stream",
     "text": [
      "(None, 30, 40, 1)\n",
      "(None, 1206)\n",
      "WARNING:tensorflow:From /home/ros/model/cnn_model.py:120: dense (from tensorflow.python.layers.core) is deprecated and will be removed in a future version.\n",
      "Instructions for updating:\n",
      "Use keras.layers.Dense instead.\n",
      "WARNING:tensorflow:From /home/ros/anaconda3/envs/tf/lib/python3.6/site-packages/tensorflow_core/python/layers/core.py:187: Layer.apply (from tensorflow.python.keras.engine.base_layer) is deprecated and will be removed in a future version.\n",
      "Instructions for updating:\n",
      "Please use `layer.__call__` method instead.\n",
      "WARNING:tensorflow:From /home/ros/anaconda3/envs/tf/lib/python3.6/site-packages/tensorflow_core/python/ops/resource_variable_ops.py:1635: calling BaseResourceVariable.__init__ (from tensorflow.python.ops.resource_variable_ops) with constraint is deprecated and will be removed in a future version.\n",
      "Instructions for updating:\n",
      "If using Keras pass *_constraint arguments to layers.\n",
      "1\n",
      "(None, 1200)\n",
      "(None, 30, 40, 1)\n"
     ]
    }
   ],
   "source": [
    "model = cnn(int(480/scale),int(640/scale),1,conv_featmap=[64,32,16,3],deconv_featmap=[3,16,32,64,3],\n",
    "                 kernel_size=[5,5,5,5],dekernel_size=[5,5,5,5,5],conv_strides=[1,1,1,1],deconv_strides=[1,1,1,1,1],\n",
    "                 pool_size=[4,2,2,2],pool_strides=[4,2,2,2],upsample_size=[2,2,2,4],fc_layer_size=[640*480*3],learning_rate=0.005,\n",
    "                 lambda_l2_reg=.01,activation=tf.nn.relu)"
   ]
  },
  {
   "cell_type": "code",
   "execution_count": 5,
   "metadata": {
    "scrolled": true
   },
   "outputs": [
    {
     "name": "stdout",
     "output_type": "stream",
     "text": [
      "['augment.py', 'train.py', 'Untitled1.ipynb', 'test_means.py', '__pycache__', 'train_small.py', '.ipynb_checkpoints', 'augment_image_names.py', 'SD Pred.ipynb', 'cnn_model.py', 'data_loader.py', 'Train_Prediction.ipynb', 'feed_test.py', 'test_sds.py']\n"
     ]
    }
   ],
   "source": [
    "import os\n",
    "print(os.listdir())"
   ]
  },
  {
   "cell_type": "code",
   "execution_count": 6,
   "metadata": {},
   "outputs": [
    {
     "name": "stdout",
     "output_type": "stream",
     "text": [
      "(50, 30, 40, 1)\n",
      "(50, 6)\n",
      "(50, 30, 40, 1)\n"
     ]
    }
   ],
   "source": [
    "tot_itr = 50\n",
    "\n",
    "base_dir = \"/media/ros/de64b3cc-d3b4-44e1-b807-300d3d8adb21/ss_terrain_nav/data/\"\n",
    "\n",
    "feed_test = np.array([['terrain5/run1/', '1592967640.9', '0.0', '0.0', '0.0', '0.0', '0.0']])\n",
    "test_images, test_accels, test_sds, test_tf, test_ca = load_batch(feed_test,base_dir,train=False,down_scale=scale)\n",
    "test_accels = test_accels[:,:,:,2]\n",
    "test_images = np.expand_dims(test_images, axis=-1)\n",
    "noise = np.random.normal(0,0,size=(tot_itr,test_images.shape[1],test_images.shape[2],test_images.shape[3]))\n",
    "print(noise.shape)\n",
    "test_images = np.repeat(test_images, tot_itr, axis=0) + noise\n",
    "test_ca = np.repeat(test_ca, tot_itr, axis=0)\n",
    "print(test_ca.shape)\n",
    "print(test_images.shape)"
   ]
  },
  {
   "cell_type": "code",
   "execution_count": 7,
   "metadata": {},
   "outputs": [
    {
     "name": "stdout",
     "output_type": "stream",
     "text": [
      "nan\n"
     ]
    },
    {
     "name": "stderr",
     "output_type": "stream",
     "text": [
      "/home/ros/anaconda3/envs/tf/lib/python3.6/site-packages/ipykernel_launcher.py:2: RuntimeWarning: invalid value encountered in true_divide\n",
      "  \n"
     ]
    },
    {
     "data": {
      "text/plain": [
       "<matplotlib.image.AxesImage at 0x7fdc9001fbe0>"
      ]
     },
     "execution_count": 7,
     "metadata": {},
     "output_type": "execute_result"
    },
    {
     "name": "stderr",
     "output_type": "stream",
     "text": [
      "/home/ros/anaconda3/envs/tf/lib/python3.6/site-packages/matplotlib/image.py:446: UserWarning: Warning: converting a masked element to nan.\n",
      "  dv = np.float64(self.norm.vmax) - np.float64(self.norm.vmin)\n",
      "/home/ros/anaconda3/envs/tf/lib/python3.6/site-packages/matplotlib/image.py:453: UserWarning: Warning: converting a masked element to nan.\n",
      "  a_min = np.float64(newmin)\n",
      "/home/ros/anaconda3/envs/tf/lib/python3.6/site-packages/matplotlib/image.py:458: UserWarning: Warning: converting a masked element to nan.\n",
      "  a_max = np.float64(newmax)\n"
     ]
    },
    {
     "data": {
      "image/png": "[encoded data removed]",
      "text/plain": [
       "<Figure size 432x288 with 1 Axes>"
      ]
     },
     "metadata": {
      "needs_background": "light"
     },
     "output_type": "display_data"
    }
   ],
   "source": [
    "old_range = np.max(noise[0]) - np.min(noise[0])\n",
    "pic = ((noise[0] - np.min(noise[0])) * 255) / old_range\n",
    "print(np.max(pic))\n",
    "plt.imshow(pic)"
   ]
  },
  {
   "cell_type": "code",
   "execution_count": 8,
   "metadata": {
    "scrolled": true
   },
   "outputs": [
    {
     "name": "stdout",
     "output_type": "stream",
     "text": [
      "(50, 30, 40, 1)\n",
      "(50, 6)\n",
      "(30, 40, 1)\n",
      "Loading model from: /media/ros/de64b3cc-d3b4-44e1-b807-300d3d8adb21/ss_terrain_nav/data/saved/mse_4500_2791226.958955189\n",
      "INFO:tensorflow:Restoring parameters from /media/ros/de64b3cc-d3b4-44e1-b807-300d3d8adb21/ss_terrain_nav/data/saved/mse_4500_2791226.958955189\n",
      "(50, 30, 40, 1)\n"
     ]
    }
   ],
   "source": [
    "print(test_images.shape)\n",
    "print(test_ca.shape)\n",
    "res = model.predict(test_images,test_ca,pre_trained_model='/media/ros/de64b3cc-d3b4-44e1-b807-300d3d8adb21/ss_terrain_nav/data/saved/mse_4500_2791226.958955189')\n",
    "print(res.shape)"
   ]
  },
  {
   "cell_type": "code",
   "execution_count": 9,
   "metadata": {},
   "outputs": [
    {
     "name": "stdout",
     "output_type": "stream",
     "text": [
      "[[[ 2106.7312]\n",
      "  [ 2189.8884]\n",
      "  [ 1887.0624]\n",
      "  ...\n",
      "  [ 2260.3237]\n",
      "  [ 2146.2454]\n",
      "  [ 1957.9335]]\n",
      "\n",
      " [[ 1877.163 ]\n",
      "  [ 1602.7119]\n",
      "  [ 1452.479 ]\n",
      "  ...\n",
      "  [ 1595.1581]\n",
      "  [ 1563.1881]\n",
      "  [ 1755.1375]]\n",
      "\n",
      " [[ 1250.9155]\n",
      "  [ 1245.7861]\n",
      "  [  956.9667]\n",
      "  ...\n",
      "  [ 2674.9119]\n",
      "  [ 2061.6038]\n",
      "  [ 1346.5765]]\n",
      "\n",
      " ...\n",
      "\n",
      " [[-1319.8674]\n",
      "  [-1280.4766]\n",
      "  [-1388.6122]\n",
      "  ...\n",
      "  [-2125.329 ]\n",
      "  [-1870.9581]\n",
      "  [-1571.3259]]\n",
      "\n",
      " [[-1150.5947]\n",
      "  [-1066.1444]\n",
      "  [-1630.0494]\n",
      "  ...\n",
      "  [-2331.3398]\n",
      "  [-2484.8464]\n",
      "  [-1991.415 ]]\n",
      "\n",
      " [[-1378.9957]\n",
      "  [-1491.4425]\n",
      "  [-1791.4302]\n",
      "  ...\n",
      "  [-2190.968 ]\n",
      "  [-2202.8877]\n",
      "  [-1618.1196]]]\n"
     ]
    }
   ],
   "source": [
    "print(res[0])"
   ]
  },
  {
   "cell_type": "code",
   "execution_count": 10,
   "metadata": {},
   "outputs": [
    {
     "name": "stdout",
     "output_type": "stream",
     "text": [
      "[[[ 2106.7312]\n",
      "  [ 2189.8884]\n",
      "  [ 1887.0624]\n",
      "  ...\n",
      "  [ 2260.3237]\n",
      "  [ 2146.2454]\n",
      "  [ 1957.9335]]\n",
      "\n",
      " [[ 1877.163 ]\n",
      "  [ 1602.7119]\n",
      "  [ 1452.479 ]\n",
      "  ...\n",
      "  [ 1595.1581]\n",
      "  [ 1563.1881]\n",
      "  [ 1755.1375]]\n",
      "\n",
      " [[ 1250.9155]\n",
      "  [ 1245.7861]\n",
      "  [  956.9667]\n",
      "  ...\n",
      "  [ 2674.9119]\n",
      "  [ 2061.6038]\n",
      "  [ 1346.5765]]\n",
      "\n",
      " ...\n",
      "\n",
      " [[-1319.8674]\n",
      "  [-1280.4766]\n",
      "  [-1388.6122]\n",
      "  ...\n",
      "  [-2125.329 ]\n",
      "  [-1870.9581]\n",
      "  [-1571.3259]]\n",
      "\n",
      " [[-1150.5947]\n",
      "  [-1066.1444]\n",
      "  [-1630.0494]\n",
      "  ...\n",
      "  [-2331.3398]\n",
      "  [-2484.8464]\n",
      "  [-1991.415 ]]\n",
      "\n",
      " [[-1378.9957]\n",
      "  [-1491.4425]\n",
      "  [-1791.4302]\n",
      "  ...\n",
      "  [-2190.968 ]\n",
      "  [-2202.8877]\n",
      "  [-1618.1196]]]\n"
     ]
    }
   ],
   "source": [
    "print(res[1])"
   ]
  },
  {
   "cell_type": "code",
   "execution_count": 11,
   "metadata": {},
   "outputs": [],
   "source": [
    "def dict_to_accel(dic, values):\n",
    "  accels = np.zeros((values.shape[0],values.shape[1],3))\n",
    "  sds = np.ones((values.shape[0],values.shape[1],3))\n",
    "  indices = np.argwhere(values[:,:,0]>-1)\n",
    "  for i in indices:\n",
    "    tup = tuple((i[0],i[1]))\n",
    "    ac = list(dic[tup])\n",
    "    #print(ac)\n",
    "    accels[i[0],i[1]] = random.choice(ac)\n",
    "    if len(ac) != 1:\n",
    "        ac = np.array(ac)\n",
    "        sds[i[0],i[1],0] = np.std(ac[:,0])\n",
    "        sds[i[0],i[1],1] = np.std(ac[:,1])\n",
    "        sds[i[0],i[1],2] = np.std(ac[:,2])\n",
    "    else:\n",
    "        sds[i[0],i[1],0] = sds[i[0],i[1],1] = sds[i[0],i[1],2] = 1\n",
    "  return accels, sds"
   ]
  },
  {
   "cell_type": "code",
   "execution_count": 12,
   "metadata": {},
   "outputs": [
    {
     "name": "stdout",
     "output_type": "stream",
     "text": [
      "(1, 30, 40)\n",
      "-1.0\n",
      "(30, 40, 1)\n",
      "(30, 40, 1)\n",
      "[0.00073242]\n",
      "0.0\n",
      "0.0024414062\n",
      "(1200,)\n",
      "(1200,)\n",
      "[[   0]\n",
      " [   1]\n",
      " [   2]\n",
      " ...\n",
      " [1197]\n",
      " [1198]\n",
      " [1199]]\n"
     ]
    }
   ],
   "source": [
    "z_sd = test_sds[:,:,:,2]\n",
    "print(z_sd.shape)\n",
    "print(z_sd[0,0,0])\n",
    "pred_sd = np.std(res,axis=0)\n",
    "print(pred_sd.shape)\n",
    "z_pred_sd = pred_sd\n",
    "print(z_pred_sd.shape)\n",
    "print(z_pred_sd[0,0])\n",
    "print(np.min(z_pred_sd))\n",
    "print(np.max(z_pred_sd))\n",
    "xs = z_sd.flatten()\n",
    "ys = z_pred_sd.flatten()\n",
    "print(xs.shape)\n",
    "print(ys.shape)\n",
    "zers = np.argwhere(xs==-1)\n",
    "print(zers)\n",
    "xs[zers] = 0"
   ]
  },
  {
   "cell_type": "code",
   "execution_count": 13,
   "metadata": {
    "scrolled": true
   },
   "outputs": [
    {
     "data": {
      "image/png": "[encoded data removed]",
      "text/plain": [
       "<Figure size 432x288 with 1 Axes>"
      ]
     },
     "metadata": {
      "needs_background": "light"
     },
     "output_type": "display_data"
    }
   ],
   "source": [
    "plt.scatter(xs,ys)\n",
    "plt.ylabel(\"Uncertainty in Prediction\")\n",
    "plt.xlabel(\"Uncertainty in Data\")\n",
    "plt.show()"
   ]
  },
  {
   "cell_type": "code",
   "execution_count": 14,
   "metadata": {},
   "outputs": [
    {
     "name": "stdout",
     "output_type": "stream",
     "text": [
      "(1, 30, 40)\n"
     ]
    },
    {
     "data": {
      "image/png": "[encoded data removed]",
      "text/plain": [
       "<Figure size 432x288 with 1 Axes>"
      ]
     },
     "metadata": {
      "needs_background": "light"
     },
     "output_type": "display_data"
    }
   ],
   "source": [
    "z_sd = test_sds[:,:,:,2]\n",
    "print(z_sd.shape)\n",
    "z_sd = np.reshape(z_sd,(z_sd.shape[1],z_sd.shape[2]))\n",
    "plt.imshow(z_sd, cmap='hot', interpolation='nearest')\n",
    "plt.show()"
   ]
  },
  {
   "cell_type": "code",
   "execution_count": 15,
   "metadata": {},
   "outputs": [
    {
     "name": "stdout",
     "output_type": "stream",
     "text": [
      "(30, 40, 1)\n"
     ]
    },
    {
     "data": {
      "image/png": "[encoded data removed]",
      "text/plain": [
       "<Figure size 432x288 with 1 Axes>"
      ]
     },
     "metadata": {
      "needs_background": "light"
     },
     "output_type": "display_data"
    }
   ],
   "source": [
    "print(z_pred_sd.shape)\n",
    "z_pred_sd = np.reshape(z_pred_sd,(z_pred_sd.shape[0],z_pred_sd.shape[1]))\n",
    "plt.imshow(z_pred_sd, cmap='hot', interpolation='nearest')\n",
    "plt.show()"
   ]
  },
  {
   "cell_type": "code",
   "execution_count": 16,
   "metadata": {},
   "outputs": [
    {
     "data": {
      "text/plain": [
       "<matplotlib.image.AxesImage at 0x7fdc8816dfd0>"
      ]
     },
     "execution_count": 16,
     "metadata": {},
     "output_type": "execute_result"
    },
    {
     "data": {
      "image/png": "[encoded data removed]",
      "text/plain": [
       "<Figure size 432x288 with 1 Axes>"
      ]
     },
     "metadata": {
      "needs_background": "light"
     },
     "output_type": "display_data"
    }
   ],
   "source": [
    "plt.imshow(test_images[0])"
   ]
  },
  {
   "cell_type": "code",
   "execution_count": 17,
   "metadata": {},
   "outputs": [
    {
     "data": {
      "image/png": "[encoded data removed]",
      "text/plain": [
       "<Figure size 432x288 with 1 Axes>"
      ]
     },
     "metadata": {
      "needs_background": "light"
     },
     "output_type": "display_data"
    }
   ],
   "source": [
    "plt.scatter(xs,ys)\n",
    "plt.show()"
   ]
  },
  {
   "cell_type": "code",
   "execution_count": 18,
   "metadata": {},
   "outputs": [
    {
     "name": "stdout",
     "output_type": "stream",
     "text": [
      "[[   2]\n",
      " [  17]\n",
      " [  51]\n",
      " [  55]\n",
      " [  61]\n",
      " [  73]\n",
      " [  92]\n",
      " [  93]\n",
      " [ 104]\n",
      " [ 106]\n",
      " [ 134]\n",
      " [ 155]\n",
      " [ 160]\n",
      " [ 166]\n",
      " [ 169]\n",
      " [ 200]\n",
      " [ 205]\n",
      " [ 229]\n",
      " [ 234]\n",
      " [ 245]\n",
      " [ 274]\n",
      " [ 288]\n",
      " [ 289]\n",
      " [ 290]\n",
      " [ 317]\n",
      " [ 320]\n",
      " [ 333]\n",
      " [ 334]\n",
      " [ 341]\n",
      " [ 343]\n",
      " [ 368]\n",
      " [ 370]\n",
      " [ 381]\n",
      " [ 384]\n",
      " [ 404]\n",
      " [ 440]\n",
      " [ 448]\n",
      " [ 452]\n",
      " [ 460]\n",
      " [ 492]\n",
      " [ 495]\n",
      " [ 501]\n",
      " [ 502]\n",
      " [ 504]\n",
      " [ 524]\n",
      " [ 553]\n",
      " [ 581]\n",
      " [ 593]\n",
      " [ 609]\n",
      " [ 624]\n",
      " [ 631]\n",
      " [ 633]\n",
      " [ 636]\n",
      " [ 654]\n",
      " [ 656]\n",
      " [ 657]\n",
      " [ 662]\n",
      " [ 665]\n",
      " [ 672]\n",
      " [ 679]\n",
      " [ 687]\n",
      " [ 695]\n",
      " [ 701]\n",
      " [ 705]\n",
      " [ 706]\n",
      " [ 711]\n",
      " [ 715]\n",
      " [ 719]\n",
      " [ 724]\n",
      " [ 734]\n",
      " [ 742]\n",
      " [ 755]\n",
      " [ 759]\n",
      " [ 779]\n",
      " [ 801]\n",
      " [ 805]\n",
      " [ 818]\n",
      " [ 852]\n",
      " [ 862]\n",
      " [ 895]\n",
      " [ 905]\n",
      " [ 924]\n",
      " [ 950]\n",
      " [ 971]\n",
      " [ 983]\n",
      " [1006]\n",
      " [1027]\n",
      " [1037]\n",
      " [1040]\n",
      " [1044]\n",
      " [1045]\n",
      " [1062]\n",
      " [1070]\n",
      " [1081]\n",
      " [1083]\n",
      " [1086]\n",
      " [1088]\n",
      " [1091]\n",
      " [1121]\n",
      " [1135]\n",
      " [1136]\n",
      " [1153]\n",
      " [1160]\n",
      " [1161]\n",
      " [1164]\n",
      " [1173]\n",
      " [1174]\n",
      " [1187]\n",
      " [1191]\n",
      " [1199]]\n"
     ]
    },
    {
     "data": {
      "image/png": "[encoded data removed]",
      "text/plain": [
       "<Figure size 432x288 with 1 Axes>"
      ]
     },
     "metadata": {
      "needs_background": "light"
     },
     "output_type": "display_data"
    }
   ],
   "source": [
    "zers = np.argwhere(ys==0)\n",
    "print(zers)\n",
    "xs1 = np.delete(xs,zers)\n",
    "ys1 = np.delete(ys,zers)\n",
    "plt.scatter(xs1,ys1)\n",
    "plt.ylabel(\"Uncertainty in Prediction\")\n",
    "plt.xlabel(\"Uncertainty in Data\")\n",
    "plt.show()"
   ]
  },
  {
   "cell_type": "code",
   "execution_count": 19,
   "metadata": {},
   "outputs": [
    {
     "data": {
      "image/png": "[encoded data removed]",
      "text/plain": [
       "<Figure size 432x288 with 1 Axes>"
      ]
     },
     "metadata": {
      "needs_background": "light"
     },
     "output_type": "display_data"
    }
   ],
   "source": [
    "plt.scatter(ys1,xs1)\n",
    "plt.xlabel(\"Uncertainty in Prediction\")\n",
    "plt.ylabel(\"Uncertainty in Data\")\n",
    "plt.show()"
   ]
  },
  {
   "cell_type": "code",
   "execution_count": null,
   "metadata": {},
   "outputs": [],
   "source": []
  }
 ],
 "metadata": {
  "kernelspec": {
   "display_name": "Python 3",
   "language": "python",
   "name": "python3"
  },
  "language_info": {
   "codemirror_mode": {
    "name": "ipython",
    "version": 3
   },
   "file_extension": ".py",
   "mimetype": "text/x-python",
   "name": "python",
   "nbconvert_exporter": "python",
   "pygments_lexer": "ipython3",
   "version": "3.6.13"
  }
 },
 "nbformat": 4,
 "nbformat_minor": 4
}
