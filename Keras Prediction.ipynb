{
 "cells": [
  {
   "cell_type": "code",
   "execution_count": 1,
   "id": "ee534484",
   "metadata": {},
   "outputs": [
    {
     "name": "stdout",
     "output_type": "stream",
     "text": [
      "2.4.1\n"
     ]
    }
   ],
   "source": [
    "# Import modules\n",
    "from __future__ import print_function\n",
    "import numpy as np\n",
    "from matplotlib import pyplot as plt\n",
    "import cv2\n",
    "from augment_image_names import Generator\n",
    "from data_loader import load_batch\n",
    "from cnn_model import *\n",
    "import pickle as pkl\n",
    "import random\n",
    "from cnn_model import *\n",
    "import os\n",
    "import math\n",
    "import numpy as np\n",
    "import h5py\n",
    "import matplotlib.pyplot as plt\n",
    "from matplotlib.pyplot import imread\n",
    "import scipy\n",
    "from PIL import Image\n",
    "import pandas as pd\n",
    "import tensorflow as tf\n",
    "import tensorflow.keras.layers as tfl\n",
    "from tensorflow.python.framework import ops\n",
    "from tensorflow.keras import backend as K\n",
    "\n",
    "%matplotlib inline\n",
    "np.random.seed(1)\n",
    "\n",
    "import matplotlib.pyplot as plt\n",
    "\n",
    "tf.test.gpu_device_name()\n",
    "\n",
    "print(tf.__version__)"
   ]
  },
  {
   "cell_type": "code",
   "execution_count": 2,
   "id": "cbda8a49",
   "metadata": {},
   "outputs": [
    {
     "name": "stdout",
     "output_type": "stream",
     "text": [
      "0.1780392156862745\n"
     ]
    }
   ],
   "source": [
    "files = np.concatenate((np.linspace(10,200,20,dtype=int),np.linspace(250,1000,16,dtype=int),np.linspace(1000,83000,int((83000-1000)/100 + 1),dtype=int)))\n",
    "\n",
    "base_dir = \"/media/ros/de64b3cc-d3b4-44e1-b807-300d3d8adb21/ss_terrain_nav/data/\"\n",
    "tot_itr = 100\n",
    "feed_test = np.array([['terrain5/run1/', '1592968304.1', '0.0', '0.0', '0.0', '0.0', '0.0']])\n",
    "test_images, test_accels, test_sds, test_tf, test_ca = load_batch(feed_test,base_dir,train=False,down_scale=2)\n",
    "test_images = np.expand_dims(test_images, axis=-1)\n",
    "\n",
    "n = np.max(test_images)/5\n",
    "print(n)\n",
    "\n",
    "noise = np.random.normal(0,n,size=(tot_itr,test_images.shape[1],test_images.shape[2],test_images.shape[3]))\n",
    "test_images = np.repeat(test_images, tot_itr, axis=0) + noise\n",
    "test_ca = np.repeat(test_ca, tot_itr, axis=0)\n",
    "test_tf = np.ones(test_images.shape)\n",
    "\n",
    "saved_models = os.listdir(base_dir + \"saved/\")"
   ]
  },
  {
   "cell_type": "markdown",
   "id": "be378a9f",
   "metadata": {},
   "source": [
    "pics = []\n",
    "files = os.listdir(base_dir)\n",
    "for f in files:\n",
    "    if f.endswith(\"uncertainty.png\"):\\\n",
    "        pics.append(f[:-15])\n",
    "\n",
    "saved_model = np.setdiff1d(pics,saved_models)"
   ]
  },
  {
   "cell_type": "code",
   "execution_count": null,
   "id": "6f7e9b32",
   "metadata": {},
   "outputs": [
    {
     "name": "stderr",
     "output_type": "stream",
     "text": [
      "/home/ros/anaconda3/envs/tf/lib/python3.9/site-packages/tensorflow/python/keras/engine/training.py:2325: UserWarning: `Model.state_updates` will be removed in a future version. This property should not be used in TensorFlow 2.0, as `updates` are applied automatically.\n",
      "  warnings.warn('`Model.state_updates` will be removed in a future version. '\n"
     ]
    },
    {
     "name": "stdout",
     "output_type": "stream",
     "text": [
      "40-2550.65\n"
     ]
    }
   ],
   "source": [
    "for m in saved_models:\n",
    "    model = tf.keras.models.load_model(base_dir + \"saved/\" + m)\n",
    "    preds = model.predict([test_images,test_ca,test_tf])\n",
    "    z_sd = test_sds[:,:,:,2]\n",
    "    pred_sd = np.std(preds,axis=0)\n",
    "    xs = z_sd.flatten()\n",
    "    ys = pred_sd.flatten()\n",
    "    zers = np.argwhere(xs==-1)\n",
    "    xs[zers] = 0\n",
    "    \n",
    "    fig = plt.figure()\n",
    "    ax = fig.add_subplot(111)\n",
    "    ax.scatter(xs,ys)\n",
    "    ax.set_xlabel(\"Uncertainty in Data\")\n",
    "    ax.set_ylabel(\"Uncertainty in Prediction\")\n",
    "    fig.savefig(base_dir + m + \"_{}_uncertainty.png\".format(n))\n",
    "\n",
    "\n",
    "    fig = plt.figure()\n",
    "    z_pred_sd = np.reshape(pred_sd,(pred_sd.shape[0],pred_sd.shape[1]))\n",
    "    plt.imshow(z_pred_sd, cmap='hot', interpolation='nearest')\n",
    "    fig.savefig(base_dir + m + \"_{}_heatmap.png\".format(n))\n",
    "    print(m)\n",
    "    plt.close('all')\n",
    "    \n",
    "    K.clear_session()"
   ]
  },
  {
   "cell_type": "code",
   "execution_count": null,
   "id": "e82ce9c6",
   "metadata": {},
   "outputs": [],
   "source": [
    "os.system('spd-say \"Done with training\"')\n",
    "duration = 1  # seconds\n",
    "freq = 440  # Hz\n",
    "os.system('play -nq -t alsa synth {} sine {}'.format(duration, freq))"
   ]
  },
  {
   "cell_type": "markdown",
   "id": "79023416",
   "metadata": {},
   "source": [
    "###### "
   ]
  }
 ],
 "metadata": {
  "kernelspec": {
   "display_name": "Python 3",
   "language": "python",
   "name": "python3"
  },
  "language_info": {
   "codemirror_mode": {
    "name": "ipython",
    "version": 3
   },
   "file_extension": ".py",
   "mimetype": "text/x-python",
   "name": "python",
   "nbconvert_exporter": "python",
   "pygments_lexer": "ipython3",
   "version": "3.9.5"
  }
 },
 "nbformat": 4,
 "nbformat_minor": 5
}
